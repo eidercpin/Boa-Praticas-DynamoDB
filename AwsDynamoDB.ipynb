{
 "cells": [
  {
   "cell_type": "markdown",
   "id": "497cc598",
   "metadata": {},
   "source": [
    "# Conexão com o dynamoDB na AWS"
   ]
  },
  {
   "cell_type": "markdown",
   "id": "9e012b79",
   "metadata": {},
   "source": [
    "#### importar boto3 e conectar o banco com as credenciais"
   ]
  },
  {
   "cell_type": "code",
   "execution_count": 33,
   "id": "94feae1a",
   "metadata": {},
   "outputs": [],
   "source": [
    "import boto3\n",
    "import tqdm"
   ]
  },
  {
   "cell_type": "code",
   "execution_count": 34,
   "id": "dc92df34",
   "metadata": {},
   "outputs": [],
   "source": [
    "dynamodb = boto3.resource(service_name = 'dynamodb',region_name = 'sa-east-1',\n",
    "              aws_access_key_id = '(\"SEU ACESS KEY ID\")',\n",
    "              aws_secret_access_key = '\"SUA SECRET KEY\"')"
   ]
  },
  {
   "cell_type": "markdown",
   "id": "2e48b3da",
   "metadata": {},
   "source": [
    "#### Criando a tabela MUSIC"
   ]
  },
  {
   "cell_type": "code",
   "execution_count": 35,
   "id": "6f2a2373",
   "metadata": {},
   "outputs": [
    {
     "name": "stdout",
     "output_type": "stream",
     "text": [
      "Table status: CREATING\n"
     ]
    }
   ],
   "source": [
    "table = dynamodb.create_table(\n",
    "        TableName='Music',\n",
    "        KeySchema=[\n",
    "            {\n",
    "                'AttributeName': 'Artist',\n",
    "                'KeyType': 'HASH'  # Partition key\n",
    "            },\n",
    "            {\n",
    "                'AttributeName': 'SongTitle',\n",
    "                'KeyType': 'RANGE'  # Sort key\n",
    "            }\n",
    "        ],\n",
    "        AttributeDefinitions=[\n",
    "            {\n",
    "                'AttributeName': 'Artist',\n",
    "                'AttributeType': 'S'\n",
    "            },\n",
    "            {\n",
    "                'AttributeName': 'SongTitle',\n",
    "                'AttributeType': 'S'\n",
    "            },\n",
    " \n",
    "        ],\n",
    "        ProvisionedThroughput={\n",
    "            'ReadCapacityUnits': 10,\n",
    "            'WriteCapacityUnits': 5\n",
    "        }\n",
    "    )        \n",
    "print(\"Table status:\", table.table_status)"
   ]
  },
  {
   "cell_type": "markdown",
   "id": "8b38d4ed",
   "metadata": {},
   "source": [
    "#### Importando a lib Json e carregando um arquivo com dados para inserir na tabela"
   ]
  },
  {
   "cell_type": "code",
   "execution_count": 36,
   "id": "866516e8",
   "metadata": {
    "scrolled": true
   },
   "outputs": [
    {
     "data": {
      "text/plain": [
       "{'Artist': 'Iron Maiden',\n",
       " 'SongTitle': 'Chains of Misery',\n",
       " 'AlbumTitle': 'Fear of the Dark',\n",
       " 'SongYear': '1992'}"
      ]
     },
     "execution_count": 36,
     "metadata": {},
     "output_type": "execute_result"
    }
   ],
   "source": [
    "import json\n",
    "file = open(r\"C:\\Users\\eider\\Documents\\AwsDynamoDB\\src\\itemmusic.json\")\n",
    "file = file.read()\n",
    "data_file = json.loads(file)\n",
    "data_file"
   ]
  },
  {
   "cell_type": "markdown",
   "id": "89695df1",
   "metadata": {},
   "source": [
    "#### Conectando a tabela e verificando seu status no BD"
   ]
  },
  {
   "cell_type": "code",
   "execution_count": 37,
   "id": "f30fb687",
   "metadata": {},
   "outputs": [
    {
     "data": {
      "text/plain": [
       "'ACTIVE'"
      ]
     },
     "execution_count": 37,
     "metadata": {},
     "output_type": "execute_result"
    }
   ],
   "source": [
    "music_table = dynamodb.Table('Music')\n",
    "music_table.table_status"
   ]
  },
  {
   "cell_type": "markdown",
   "id": "56818bcf",
   "metadata": {},
   "source": [
    "#### Inserindo um registros na tabela"
   ]
  },
  {
   "cell_type": "code",
   "execution_count": 38,
   "id": "cad1a63a",
   "metadata": {},
   "outputs": [],
   "source": [
    "response = music_table.put_item(Item = data_file )"
   ]
  },
  {
   "cell_type": "markdown",
   "id": "7529883c",
   "metadata": {},
   "source": [
    "#### Inserindo multiplos registros na mesma tabela"
   ]
  },
  {
   "cell_type": "code",
   "execution_count": 39,
   "id": "897ad450",
   "metadata": {},
   "outputs": [
    {
     "data": {
      "text/plain": [
       "[{'Artist': 'Iron Maiden',\n",
       "  'SongTitle': 'Wasting Love',\n",
       "  'AlbumTitle': 'Fear of the Dark Live',\n",
       "  'SongYear': '1992'},\n",
       " {'Artist': 'Iron Maiden',\n",
       "  'SongTitle': 'Weekend Warrior',\n",
       "  'AlbumTitle': 'Fear of the Dark',\n",
       "  'SongYear': '1992'},\n",
       " {'Artist': 'Iron Maiden',\n",
       "  'SongTitle': 'Fear of the Dark',\n",
       "  'AlbumTitle': 'Fear of the Dark Tour',\n",
       "  'SongYear': '1992'}]"
      ]
     },
     "execution_count": 39,
     "metadata": {},
     "output_type": "execute_result"
    }
   ],
   "source": [
    "file = open(r\"C:\\Users\\eider\\Documents\\AwsDynamoDB\\src\\batchmusic.json\")\n",
    "file = file.read()\n",
    "data_file = json.loads(file)\n",
    "data_file"
   ]
  },
  {
   "cell_type": "code",
   "execution_count": 40,
   "id": "08a4b7da",
   "metadata": {},
   "outputs": [
    {
     "name": "stderr",
     "output_type": "stream",
     "text": [
      "100%|██████████| 3/3 [00:00<00:00, 3012.43it/s]\n"
     ]
    }
   ],
   "source": [
    "with music_table.batch_writer() as batch:\n",
    "    for record in tqdm.tqdm(data_file):\n",
    "        batch.put_item(Item = record)"
   ]
  },
  {
   "cell_type": "markdown",
   "id": "ddc90e7d",
   "metadata": {},
   "source": [
    "#### Criar um index global secundário baseado no título do álbum.\n",
    "#### O objetivo do index secundário é permitir realizar consultas diretas sem a necessidde do indice primário."
   ]
  },
  {
   "cell_type": "code",
   "execution_count": 41,
   "id": "0e5747f3",
   "metadata": {},
   "outputs": [],
   "source": [
    "table = dynamodb.Table('Music') \n",
    "response = table.update(\n",
    "    AttributeDefinitions=[\n",
    "        {\n",
    "            'AttributeName': 'AlbumTitle',\n",
    "            'AttributeType': 'S'\n",
    "        },\n",
    "    ],\n",
    "    GlobalSecondaryIndexUpdates=[\n",
    "          {              \n",
    "              'Create': {\n",
    "                  'IndexName': 'AlbumTitle-index',\n",
    "                  'KeySchema': [\n",
    "                      {\n",
    "                          'AttributeName': 'AlbumTitle',\n",
    "                          'KeyType': 'HASH'\n",
    "                      },\n",
    "                  ],\n",
    "                  'Projection': {\n",
    "                      'ProjectionType': 'ALL'                      \n",
    "                  },\n",
    "                  'ProvisionedThroughput': {\n",
    "                      'ReadCapacityUnits': 10,\n",
    "                      'WriteCapacityUnits': 5\n",
    "                  }\n",
    "              },\n",
    "              \n",
    "          },\n",
    "      ],\n",
    ")"
   ]
  },
  {
   "cell_type": "markdown",
   "id": "801ba933",
   "metadata": {},
   "source": [
    "#### Criar um index global secundário baseado no nome do artista e no título do álbum."
   ]
  },
  {
   "cell_type": "code",
   "execution_count": 43,
   "id": "c23c72be",
   "metadata": {},
   "outputs": [],
   "source": [
    "table = dynamodb.Table('Music') \n",
    "response = table.update(\n",
    "    AttributeDefinitions=[\n",
    "        {\n",
    "            'AttributeName': 'Artist',\n",
    "            'AttributeType': 'S'\n",
    "        },\n",
    "        {\n",
    "            'AttributeName': 'AlbumTitle',\n",
    "            'AttributeType': 'S'\n",
    "        },\n",
    "    ],\n",
    "    GlobalSecondaryIndexUpdates=[\n",
    "          {              \n",
    "              'Create': {\n",
    "                  'IndexName': 'ArtistAlbumTitle-index',\n",
    "                  'KeySchema': [\n",
    "                      {\n",
    "                          'AttributeName': 'Artist',\n",
    "                          'KeyType': 'HASH'\n",
    "                      },\n",
    "                      {\n",
    "                          'AttributeName': 'AlbumTitle',\n",
    "                          'KeyType': 'RANGE'\n",
    "                      },\n",
    "                  ],\n",
    "                  'Projection': {\n",
    "                      'ProjectionType': 'ALL'                      \n",
    "                  },\n",
    "                  'ProvisionedThroughput': {\n",
    "                      'ReadCapacityUnits': 10,\n",
    "                      'WriteCapacityUnits': 5\n",
    "                  }\n",
    "              },\n",
    "              \n",
    "          },\n",
    "      ],\n",
    ")"
   ]
  },
  {
   "cell_type": "markdown",
   "id": "45d0fe9a",
   "metadata": {},
   "source": [
    "#### Criar um index global secundário baseado notítulo da música e no ano."
   ]
  },
  {
   "cell_type": "code",
   "execution_count": 44,
   "id": "5e8bd8e8",
   "metadata": {},
   "outputs": [],
   "source": [
    "table = dynamodb.Table('Music') \n",
    "response = table.update(\n",
    "    AttributeDefinitions=[\n",
    "        {\n",
    "            'AttributeName': 'SongTitle',\n",
    "            'AttributeType': 'S'\n",
    "        },\n",
    "        {\n",
    "            'AttributeName': 'SongYear',\n",
    "            'AttributeType': 'S'\n",
    "        },\n",
    "    ],\n",
    "    GlobalSecondaryIndexUpdates=[\n",
    "          {              \n",
    "              'Create': {\n",
    "                  'IndexName': 'SongTitleYear-index',\n",
    "                  'KeySchema': [\n",
    "                      {\n",
    "                          'AttributeName': 'SongTitle',\n",
    "                          'KeyType': 'HASH'\n",
    "                      },\n",
    "                      {\n",
    "                          'AttributeName': 'SongYear',\n",
    "                          'KeyType': 'RANGE'\n",
    "                      },\n",
    "                  ],\n",
    "                  'Projection': {\n",
    "                      'ProjectionType': 'ALL'                      \n",
    "                  },\n",
    "                  'ProvisionedThroughput': {\n",
    "                      'ReadCapacityUnits': 10,\n",
    "                      'WriteCapacityUnits': 5\n",
    "                  }\n",
    "              },\n",
    "\n",
    "          },\n",
    "      ],\n",
    ")"
   ]
  },
  {
   "cell_type": "markdown",
   "id": "d7418051",
   "metadata": {},
   "source": [
    "#### Pesquisando por nome do artista e nome da música"
   ]
  },
  {
   "cell_type": "code",
   "execution_count": 45,
   "id": "9f38c3c2",
   "metadata": {},
   "outputs": [
    {
     "name": "stdout",
     "output_type": "stream",
     "text": [
      "[{'AlbumTitle': 'Fear of the Dark', 'Artist': 'Iron Maiden', 'SongYear': '1992', 'SongTitle': 'Weekend Warrior'}]\n"
     ]
    }
   ],
   "source": [
    "from boto3.dynamodb.conditions import Key, Attr\n",
    "dynamodb = boto3.resource('dynamodb', region_name='sa-east-1')\n",
    "table = dynamodb.Table('Music')\n",
    "response = table.scan(\n",
    "    FilterExpression=Attr('Artist').eq(\"Iron Maiden\") & Attr('SongTitle').eq('Weekend Warrior')\n",
    ")\n",
    "items = response['Items']\n",
    "print(items)"
   ]
  },
  {
   "cell_type": "markdown",
   "id": "a1b5b885",
   "metadata": {},
   "source": [
    "#### Outra maneira para a mesma consulta"
   ]
  },
  {
   "cell_type": "code",
   "execution_count": 46,
   "id": "2115e859",
   "metadata": {},
   "outputs": [
    {
     "name": "stdout",
     "output_type": "stream",
     "text": [
      "{'AlbumTitle': 'Fear of the Dark', 'Artist': 'Iron Maiden', 'SongYear': '1992', 'SongTitle': 'Weekend Warrior'}\n"
     ]
    }
   ],
   "source": [
    "response = table.get_item(\n",
    "    Key={\n",
    "        'Artist': 'Iron Maiden',\n",
    "        'SongTitle': 'Weekend Warrior'\n",
    "    }\n",
    ")\n",
    "item = response['Item']\n",
    "print(item)"
   ]
  },
  {
   "cell_type": "markdown",
   "id": "6e3d4a9f",
   "metadata": {},
   "source": [
    "## Consulta pelos indices secundários"
   ]
  },
  {
   "cell_type": "code",
   "execution_count": 47,
   "id": "446e70bb",
   "metadata": {},
   "outputs": [
    {
     "data": {
      "text/plain": [
       "{':name': {'S': 'Fear of the Dark'}}"
      ]
     },
     "execution_count": 47,
     "metadata": {},
     "output_type": "execute_result"
    }
   ],
   "source": [
    "file = open(r'C:\\Users\\eider\\Documents\\AwsDynamoDB\\src/AlbumTitle.json')\n",
    "file = file.read()\n",
    "data_file = json.loads(file)\n",
    "data_file"
   ]
  },
  {
   "cell_type": "code",
   "execution_count": 48,
   "id": "b29b4a5c",
   "metadata": {},
   "outputs": [
    {
     "name": "stdout",
     "output_type": "stream",
     "text": [
      "[{'AlbumTitle': 'Fear of the Dark', 'Artist': 'Iron Maiden', 'SongYear': '1992', 'SongTitle': 'Weekend Warrior'}, {'AlbumTitle': 'Fear of the Dark', 'Artist': 'Iron Maiden', 'SongYear': '1992', 'SongTitle': 'Chains of Misery'}]\n"
     ]
    }
   ],
   "source": [
    "from boto3.dynamodb.conditions import Key, Attr\n",
    "dynamodb = boto3.resource('dynamodb', region_name='sa-east-1')\n",
    "table = dynamodb.Table('Music')\n",
    "response = table.query(IndexName='AlbumTitle-index',KeyConditionExpression=Key('AlbumTitle').eq('Fear of the Dark'))\n",
    "items = response['Items']\n",
    "print(items)"
   ]
  },
  {
   "cell_type": "code",
   "execution_count": 49,
   "id": "87988ac7",
   "metadata": {},
   "outputs": [
    {
     "data": {
      "text/plain": [
       "{':v_song': {'S': 'Wasting Love'}, ':v_year': {'S': '1992'}}"
      ]
     },
     "execution_count": 49,
     "metadata": {},
     "output_type": "execute_result"
    }
   ],
   "source": [
    "file = open(r'C:\\Users\\eider\\Documents\\AwsDynamoDB\\src/songtitle_year.json')\n",
    "file = file.read()\n",
    "data_file = json.loads(file)\n",
    "data_file"
   ]
  },
  {
   "cell_type": "code",
   "execution_count": 50,
   "id": "7d40daa6",
   "metadata": {},
   "outputs": [
    {
     "name": "stdout",
     "output_type": "stream",
     "text": [
      "[{'AlbumTitle': 'Fear of the Dark Live', 'Artist': 'Iron Maiden', 'SongTitle': 'Wasting Love', 'SongYear': '1992'}]\n"
     ]
    }
   ],
   "source": [
    "from boto3.dynamodb.conditions import Key, Attr\n",
    "dynamodb = boto3.resource('dynamodb', region_name='sa-east-1')\n",
    "table = dynamodb.Table('Music')\n",
    "response = table.query(IndexName='SongTitleYear-index',KeyConditionExpression=\n",
    "                       Key('SongTitle').eq('Wasting Love')&\n",
    "                       Key('SongYear').eq('1992'))\n",
    "items = response['Items']\n",
    "print(items)"
   ]
  }
 ],
 "metadata": {
  "kernelspec": {
   "display_name": "Python 3 (ipykernel)",
   "language": "python",
   "name": "python3"
  },
  "language_info": {
   "codemirror_mode": {
    "name": "ipython",
    "version": 3
   },
   "file_extension": ".py",
   "mimetype": "text/x-python",
   "name": "python",
   "nbconvert_exporter": "python",
   "pygments_lexer": "ipython3",
   "version": "3.9.13"
  }
 },
 "nbformat": 4,
 "nbformat_minor": 5
}
